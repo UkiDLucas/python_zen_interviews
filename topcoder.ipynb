{
 "cells": [
  {
   "cell_type": "markdown",
   "metadata": {},
   "source": [
    "# TopCoder: Importance of Algorithims\n",
    "\n",
    "https://www.topcoder.com/community/data-science/data-science-tutorials/the-importance-of-algorithms/\n",
    "\n",
    "\"Algorithms are optimized ways for accomplishing a given, well-defined task.\""
   ]
  },
  {
   "cell_type": "markdown",
   "metadata": {},
   "source": [
    "# Big-O notation\n",
    "\n",
    "Big-O notations is also known as \"the run time characteristic of an algorithm\",as it describes the **runtime relative to the size of the input**.\n",
    "\n",
    "For input size of N items it provides the worst-case runtime.\n",
    "\n",
    "A computer can easily complete 100 operations per second.\n",
    "\n",
    "\n",
    "references:\n",
    "- https://rob-bell.net/2009/06/a-beginners-guide-to-big-o-notation/"
   ]
  },
  {
   "cell_type": "code",
   "execution_count": 1,
   "metadata": {
    "collapsed": true
   },
   "outputs": [],
   "source": [
    "N = 1000 # input size\n",
    "C = 1 # execution time per operation 1 second"
   ]
  },
  {
   "cell_type": "markdown",
   "metadata": {},
   "source": [
    "Below is the estimated completion time for 1 second (C = 1s) operation algorithm, where input items N = 100\n",
    "\n",
    "- $O(Log(N))$\t10-7 seconds \n",
    "- $O(1)$ 1.001 second\n",
    "- $O(N)$\t10-6 seconds \n",
    "- $O(N*Log(N))$\t10-5 seconds \n",
    "- $O(N^2)$\t10-4 seconds, i.e. runtime is proportional to the number of items squared\n",
    "- $O(N^6)$ 3 minutes \n",
    "- $O(2^N)$\t1,014 years \n",
    "- $O(N!)$\t10,142 years "
   ]
  },
  {
   "cell_type": "code",
   "execution_count": 2,
   "metadata": {
    "collapsed": false
   },
   "outputs": [],
   "source": [
    "class TimeIt():\n",
    "    from datetime import datetime\n",
    "    def __enter__(self):\n",
    "        self.start = self.datetime.now()\n",
    "    def __exit__(self, *args, **kwargs):\n",
    "        self.measured = self.datetime.now() - self.start\n",
    "        #print('runtime: {}'.format(self.measured))\n",
    "        times.append(self.measured.microseconds)"
   ]
  },
  {
   "cell_type": "code",
   "execution_count": 3,
   "metadata": {
    "collapsed": false,
    "scrolled": false
   },
   "outputs": [
    {
     "name": "stdout",
     "output_type": "stream",
     "text": [
      "1000\n",
      "sample_set:\n",
      " [888 471 369 259 645  69 351  89 623 373]\n",
      "sorted sample_set:\n",
      " [0, 0, 1, 1, 2, 2, 3, 3, 4, 4]\n",
      "sample_set:\n",
      " [888 471 369 259 645  69 351  89 623 373]\n",
      "sorted sample_set:\n",
      " [0, 0, 1, 1, 2, 2, 3, 3, 4, 4]\n"
     ]
    }
   ],
   "source": [
    "import numpy\n",
    "import timeit\n",
    "\n",
    "sample_set = numpy.random.randint(low=0, high=N, size=N, dtype='l')\n",
    "\n",
    "print(len(sample_set))\n",
    "\n",
    "times = []\n",
    "\n",
    "with TimeIt():\n",
    "    print(\"sample_set:\\n\", sample_set[0:10])\n",
    "with TimeIt():\n",
    "    print(\"sorted sample_set:\\n\", sorted(sample_set)[0:10])\n",
    "with TimeIt():\n",
    "    print(\"sample_set:\\n\", sample_set[0:10])\n",
    "with TimeIt():\n",
    "    print(\"sorted sample_set:\\n\", sorted(sample_set)[0:10])"
   ]
  },
  {
   "cell_type": "code",
   "execution_count": 4,
   "metadata": {
    "collapsed": false
   },
   "outputs": [],
   "source": [
    "def plot_results(sizes, times):\n",
    "    import numpy\n",
    "    logs = numpy.log10(sizes)\n",
    "    import matplotlib.pyplot as plt\n",
    "    \n",
    "    \n",
    "    \n",
    "    sizes_times, = plt.plot(sizes, times, \".b\", label='Line 2')\n",
    "    sizes_logs, = plt.plot(sizes, logs, \".y\", label='Line 2')\n",
    "\n",
    "    plt.legend([sizes_times, sizes_logs], ['size vs time', 'size log(10)'])\n",
    "\n",
    "\n",
    "    #plt.plot(sizes, times, \".b\", sizes, logs, \".y\", label='logs')\n",
    "    plt.ylabel('sample size')\n",
    "    plt.xlabel('microseconds')\n",
    "    #plt.axis([0, 6, 0, 20]) # axis spans\n",
    "    plt.show()"
   ]
  },
  {
   "cell_type": "code",
   "execution_count": 5,
   "metadata": {
    "collapsed": true
   },
   "outputs": [],
   "source": [
    "def time_function(my_function):\n",
    "    times = []\n",
    "    sizes = []\n",
    "    for sample_size in range(0, N, 20):  \n",
    "        sizes.append(sample_size)\n",
    "        with TimeIt():\n",
    "            x = my_function(listing = sample_set[0:sample_size + 1])\n",
    "            print (sample_size, \"sample_size produced first element =\", x)\n",
    "\n",
    "    print(\"times in microseconds\\n\",times)\n",
    "    print(\"sizes\\n\",sizes)\n",
    "\n",
    "    plot_results(sizes, times)"
   ]
  },
  {
   "cell_type": "markdown",
   "metadata": {},
   "source": [
    "## $O(1)$ \n",
    "\n",
    "executes the same amount of time regardless on input size, also noted a C."
   ]
  },
  {
   "cell_type": "code",
   "execution_count": 6,
   "metadata": {
    "collapsed": false,
    "scrolled": false
   },
   "outputs": [],
   "source": [
    "import time\n",
    "\n",
    "def return_first_element(listing: list):\n",
    "    #time.sleep(C)\n",
    "    return listing[0]"
   ]
  },
  {
   "cell_type": "code",
   "execution_count": 7,
   "metadata": {
    "collapsed": false
   },
   "outputs": [
    {
     "name": "stdout",
     "output_type": "stream",
     "text": [
      "times in microseconds\n",
      " [15, 3, 2, 2, 2, 2, 2, 2, 2, 2, 2, 2, 2, 2, 2, 2, 3, 2, 2, 2, 3, 2, 2, 2, 2, 2, 3, 2, 2, 2, 3, 2, 2, 2, 2, 11, 2, 1, 1, 2, 2, 2, 2, 2, 2, 2, 2, 2, 2, 2]\n",
      "sizes\n",
      " [0, 20, 40, 60, 80, 100, 120, 140, 160, 180, 200, 220, 240, 260, 280, 300, 320, 340, 360, 380, 400, 420, 440, 460, 480, 500, 520, 540, 560, 580, 600, 620, 640, 660, 680, 700, 720, 740, 760, 780, 800, 820, 840, 860, 880, 900, 920, 940, 960, 980]\n"
     ]
    },
    {
     "name": "stderr",
     "output_type": "stream",
     "text": [
      "/Users/ukilucas/anaconda3/envs/py352_tf_cpu/lib/python3.5/site-packages/ipykernel/__main__.py:3: RuntimeWarning: divide by zero encountered in log10\n",
      "  app.launch_new_instance()\n"
     ]
    },
    {
     "data": {
      "image/png": "[encoded data removed]",
      "text/plain": [
       "<matplotlib.figure.Figure at 0x107ab3a58>"
      ]
     },
     "metadata": {},
     "output_type": "display_data"
    }
   ],
   "source": [
    "times = []\n",
    "sizes = []\n",
    "for sample_size in range(0, N, 20):  \n",
    "    sizes.append(sample_size)\n",
    "    with TimeIt():\n",
    "        x = return_first_element(listing = sample_set[0:sample_size + 1])\n",
    "        #print (sample_size, \"sample_size produced first element =\", x)\n",
    "    \n",
    "print(\"times in microseconds\\n\",times)\n",
    "print(\"sizes\\n\",sizes)\n",
    "\n",
    "plot_results(sizes, times)"
   ]
  },
  {
   "cell_type": "markdown",
   "metadata": {},
   "source": [
    "# $O(N)$\n",
    "\n",
    "Performance grows linearly in direct proportion to the size of the input data set"
   ]
  },
  {
   "cell_type": "code",
   "execution_count": 8,
   "metadata": {
    "collapsed": false
   },
   "outputs": [
    {
     "name": "stdout",
     "output_type": "stream",
     "text": [
      "533\n",
      "runtime in microseconds:\n",
      " [12, 9, 12, 15, 19, 23, 27, 30, 44, 40, 45, 49, 54, 57, 36, 40, 70, 74, 78, 72, 31, 90, 94, 6, 103, 94, 99, 105, 29, 106, 125, 91, 32, 139, 142, 142, 130, 127, 136, 146, 113, 58, 50, 5, 31, 2, 31, 10, 71, 12]\n",
      "data set size:\n",
      " [0, 20, 40, 60, 80, 100, 120, 140, 160, 180, 200, 220, 240, 260, 280, 300, 320, 340, 360, 380, 400, 420, 440, 460, 480, 500, 520, 540, 560, 580, 600, 620, 640, 660, 680, 700, 720, 740, 760, 780, 800, 820, 840, 860, 880, 900, 920, 940, 960, 980]\n"
     ]
    },
    {
     "name": "stderr",
     "output_type": "stream",
     "text": [
      "/Users/ukilucas/anaconda3/envs/py352_tf_cpu/lib/python3.5/site-packages/ipykernel/__main__.py:3: RuntimeWarning: divide by zero encountered in log10\n",
      "  app.launch_new_instance()\n"
     ]
    },
    {
     "data": {
      "image/png": "[encoded data removed]",
      "text/plain": [
       "<matplotlib.figure.Figure at 0x10dd90320>"
      ]
     },
     "metadata": {},
     "output_type": "display_data"
    }
   ],
   "source": [
    "value = sample_set[-1] # last element\n",
    "#print(sample_set)\n",
    "print(value) \n",
    "\n",
    "def find_value(elements: list, value: str):\n",
    "    for item in elements:\n",
    "        if (item == value): \n",
    "            return True\n",
    "    return False\n",
    "\n",
    "\n",
    "\n",
    "times = []\n",
    "sizes = []\n",
    "for sample_size in range(0, N, 20):  \n",
    "    sizes.append(sample_size)\n",
    "    \n",
    "    current_set = sample_set[0:sample_size + 1]\n",
    "    value = current_set[-1]\n",
    "    \n",
    "    with TimeIt():\n",
    "        x = find_value(current_set, value)\n",
    "        #print (sample_size, \"sample_size produced first element =\", x)\n",
    "    \n",
    "print(\"runtime in microseconds:\\n\",times)\n",
    "print(\"data set size:\\n\",sizes)\n",
    "\n",
    "plot_results(sizes, times)"
   ]
  },
  {
   "cell_type": "markdown",
   "metadata": {},
   "source": []
  },
  {
   "cell_type": "markdown",
   "metadata": {},
   "source": [
    "# Coding\n",
    "\n",
    "You should know at least one programming language really well (preferably C++,  Java or Python). You will be expected to write some code in at least some of your interviews. You will be expected to know a fair amount of detail about your preferred programming language and will be asked to do some coding on the whiteboard."
   ]
  },
  {
   "cell_type": "markdown",
   "metadata": {},
   "source": [
    "# Hashtables\n",
    "\n",
    "Arguably the single most important data structure known to mankind. You absolutely should know how they work. Be able to implement one using only arrays in your favorite language, in about the space of one interview."
   ]
  },
  {
   "cell_type": "markdown",
   "metadata": {},
   "source": [
    "# Sorting\n",
    "\n",
    "Know how to sort. Don't do bubble-sort. You should know the details of at least one n*log(n) sorting algorithm, preferably two (say, quicksort and merge sort). Merge sort can be highly useful in situations where quick sort is impractical, so take a look at it."
   ]
  },
  {
   "cell_type": "markdown",
   "metadata": {},
   "source": [
    "# Trees\n",
    "\n",
    "Know about trees; basic tree construction, traversal and manipulation algorithms. Familiarize yourself with binary trees, n-ary trees, and trie-trees. Be familiar with at least one type of balanced binary tree, whether it's a red/black tree, a splay tree or an AVL tree, and know how it's implemented. Understand tree traversal"
   ]
  },
  {
   "cell_type": "markdown",
   "metadata": {},
   "source": [
    "# Other Data Structures\n",
    "\n",
    "You should study up on as many other data structures and algorithms as possible. You should especially know about the most famous classes of NP-complete problems, such as traveling salesman and the knapsack problem, and be able to recognize them when an interviewer asks you them in disguise. Find out whatNP-complete means."
   ]
  },
  {
   "cell_type": "markdown",
   "metadata": {},
   "source": [
    "# Algorithms\n",
    "\n",
    "BFS and DFS, and know the difference between inorder, postorder and preorder.\n",
    "Graphs: Graphs are really important at Google. There are 3 basic ways to represent a graph in memory (objects and pointers, matrix, and adjacency list); familiarize yourself with each representation and its pros & cons. You should know the basic graph traversal algorithms: breadth-first search and depth-first search. Know their computational complexity, their tradeoffs, and how to implement them in real code. If you get a chance, try to study up on fancier algorithms, such as Dijkstra and A*.\n",
    "\n",
    "You may want to refresh hash tables, heaps, binary trees, linked lists, depth-first search, recursion. For more information on Algorithms you can visit:\n",
    "http://www.topcoder.com/tc?module=Static&d1=tutorials&d2=alg_index"
   ]
  },
  {
   "cell_type": "markdown",
   "metadata": {},
   "source": [
    "# Mathematics\n",
    "\n",
    "Some interviewers ask basic discrete math questions. This is more prevalent at Google than at other companies because counting problems, probability problems, and other Discrete Math 101 situations surrounds us. Spend some time before the interview refreshing your memory on (or teaching yourself) the essentials of combinatorics and probability. You should be familiar with n-choose-k problems and their ilk – the more the better."
   ]
  },
  {
   "cell_type": "markdown",
   "metadata": {},
   "source": [
    "# Operating Systems\n",
    "\n",
    "Know about processes, threads and concurrency issues. Know about locks and mutexes and semaphores and monitors and how they work. Know about deadlock and livelock and how to avoid them. Know what resources a processes needs, and a thread needs, and how context switching works, and how it's initiated by the operating system and underlying hardware. Know a little about scheduling. The world is rapidly moving towards multi-core, so know the fundamentals of \"modern\" concurrency constructs. For information on System Design:\n",
    "http://research.google.com/pubs/DistributedSystemsandParallelComputing.html"
   ]
  },
  {
   "cell_type": "code",
   "execution_count": null,
   "metadata": {
    "collapsed": true
   },
   "outputs": [],
   "source": []
  }
 ],
 "metadata": {
  "kernelspec": {
   "display_name": "conda env py352_tf_cpu",
   "language": "python",
   "name": "py352_tf_cpu"
  },
  "language_info": {
   "codemirror_mode": {
    "name": "ipython",
    "version": 3
   },
   "file_extension": ".py",
   "mimetype": "text/x-python",
   "name": "python",
   "nbconvert_exporter": "python",
   "pygments_lexer": "ipython3",
   "version": "3.5.2"
  },
  "widgets": {
   "state": {},
   "version": "1.1.2"
  }
 },
 "nbformat": 4,
 "nbformat_minor": 2
}
