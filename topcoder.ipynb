{
 "cells": [
  {
   "cell_type": "markdown",
   "metadata": {},
   "source": [
    "# TopCoder: Importance of Algorithims\n",
    "\n",
    "https://www.topcoder.com/community/data-science/data-science-tutorials/the-importance-of-algorithms/\n",
    "\n",
    "\"Algorithms are optimized ways for accomplishing a given, well-defined task.\""
   ]
  },
  {
   "cell_type": "markdown",
   "metadata": {},
   "source": [
    "# Big-O notation\n",
    "\n",
    "Big-O notations is also known as \"the run time characteristic of an algorithm\",as it describes the **runtime relative to the size of the input**.\n",
    "\n",
    "For input size of N items it provides the worst-case runtime.\n",
    "\n",
    "A computer can easily complete 100 operations per second.\n",
    "\n",
    "\n",
    "references:\n",
    "- https://rob-bell.net/2009/06/a-beginners-guide-to-big-o-notation/"
   ]
  },
  {
   "cell_type": "code",
   "execution_count": 7,
   "metadata": {
    "collapsed": true
   },
   "outputs": [],
   "source": [
    "N = 1000 # input size\n",
    "C = 1 # execution time per operation 1 second"
   ]
  },
  {
   "cell_type": "markdown",
   "metadata": {},
   "source": [
    "Below is the estimated completion time for 1 second (C = 1s) operation algorithm, where input items N = 100\n",
    "\n",
    "- $O(Log(N))$\t10-7 seconds \n",
    "- $O(1)$ 1.001 second\n",
    "- $O(N)$\t10-6 seconds \n",
    "- $O(N*Log(N))$\t10-5 seconds \n",
    "- $O(N^2)$\t10-4 seconds, i.e. runtime is proportional to the number of items squared\n",
    "- $O(N^6)$ 3 minutes \n",
    "- $O(2^N)$\t1,014 years \n",
    "- $O(N!)$\t10,142 years "
   ]
  },
  {
   "cell_type": "code",
   "execution_count": 1,
   "metadata": {
    "collapsed": true
   },
   "outputs": [],
   "source": [
    "class TimeIt():\n",
    "    from datetime import datetime\n",
    "    def __enter__(self):\n",
    "        self.start = self.datetime.now()\n",
    "    def __exit__(self, *args, **kwargs):\n",
    "        print('runtime: {}'.format(self.datetime.now() - self.start))"
   ]
  },
  {
   "cell_type": "code",
   "execution_count": 3,
   "metadata": {
    "collapsed": false,
    "scrolled": false
   },
   "outputs": [
    {
     "name": "stdout",
     "output_type": "stream",
     "text": [
      "1000\n",
      "sample_set:\n",
      " [802 764 134 376  58 463 683 661  61 758]\n",
      "runtime: 0:00:00.000782\n",
      "sorted sample_set:\n",
      " [0, 1, 2, 2, 5, 6, 6, 7, 7, 7]\n",
      "runtime: 0:00:00.000871\n",
      "sample_set:\n",
      " [802 764 134 376  58 463 683 661  61 758]\n",
      "runtime: 0:00:00.000568\n",
      "sorted sample_set:\n",
      " [0, 1, 2, 2, 5, 6, 6, 7, 7, 7]\n",
      "runtime: 0:00:00.000746\n"
     ]
    }
   ],
   "source": [
    "import numpy\n",
    "import timeit\n",
    "\n",
    "sample_set = numpy.random.randint(low=0, high=N, size=N, dtype='l')\n",
    "\n",
    "print(len(sample_set))\n",
    "\n",
    "with TimeIt():\n",
    "    print(\"sample_set:\\n\", sample_set[0:10])\n",
    "with TimeIt():\n",
    "    print(\"sorted sample_set:\\n\", sorted(sample_set)[0:10])\n",
    "with TimeIt():\n",
    "    print(\"sample_set:\\n\", sample_set[0:10])\n",
    "with TimeIt():\n",
    "    print(\"sorted sample_set:\\n\", sorted(sample_set)[0:10])"
   ]
  },
  {
   "cell_type": "markdown",
   "metadata": {},
   "source": [
    "## $O(1)$ \n",
    "\n",
    "executes the same amount of time regardless on input size, also noted a C."
   ]
  },
  {
   "cell_type": "code",
   "execution_count": 18,
   "metadata": {
    "collapsed": false
   },
   "outputs": [
    {
     "name": "stdout",
     "output_type": "stream",
     "text": [
      "802\n",
      "runtime: 0:00:01.005087\n",
      "0 802\n",
      "runtime: 0:00:01.003760\n",
      "100 802\n",
      "runtime: 0:00:01.003790\n",
      "200 802\n",
      "runtime: 0:00:01.005137\n",
      "300 802\n",
      "runtime: 0:00:01.003938\n",
      "400 802\n",
      "runtime: 0:00:01.004196\n",
      "500 802\n",
      "runtime: 0:00:01.004058\n",
      "600 802\n",
      "runtime: 0:00:01.005442\n",
      "700 802\n",
      "runtime: 0:00:01.003766\n",
      "800 802\n",
      "runtime: 0:00:01.000245\n",
      "900 802\n",
      "runtime: 0:00:01.004202\n"
     ]
    }
   ],
   "source": [
    "import time\n",
    "\n",
    "def return_first_element(listing: list):\n",
    "    time.sleep(C)\n",
    "    return listing[0]\n",
    "\n",
    "with TimeIt():\n",
    "    print (return_first_element(listing = sample_set) )\n",
    "\n",
    "for i in range(0, N, 100):  \n",
    "    with TimeIt():\n",
    "        print (i, return_first_element(listing = sample_set[0:i+1]) )"
   ]
  },
  {
   "cell_type": "markdown",
   "metadata": {},
   "source": []
  },
  {
   "cell_type": "markdown",
   "metadata": {},
   "source": [
    "# Coding\n",
    "\n",
    "You should know at least one programming language really well (preferably C++,  Java or Python). You will be expected to write some code in at least some of your interviews. You will be expected to know a fair amount of detail about your preferred programming language and will be asked to do some coding on the whiteboard."
   ]
  },
  {
   "cell_type": "markdown",
   "metadata": {},
   "source": [
    "# Hashtables\n",
    "\n",
    "Arguably the single most important data structure known to mankind. You absolutely should know how they work. Be able to implement one using only arrays in your favorite language, in about the space of one interview."
   ]
  },
  {
   "cell_type": "markdown",
   "metadata": {},
   "source": [
    "# Sorting\n",
    "\n",
    "Know how to sort. Don't do bubble-sort. You should know the details of at least one n*log(n) sorting algorithm, preferably two (say, quicksort and merge sort). Merge sort can be highly useful in situations where quick sort is impractical, so take a look at it."
   ]
  },
  {
   "cell_type": "markdown",
   "metadata": {},
   "source": [
    "# Trees\n",
    "\n",
    "Know about trees; basic tree construction, traversal and manipulation algorithms. Familiarize yourself with binary trees, n-ary trees, and trie-trees. Be familiar with at least one type of balanced binary tree, whether it's a red/black tree, a splay tree or an AVL tree, and know how it's implemented. Understand tree traversal"
   ]
  },
  {
   "cell_type": "markdown",
   "metadata": {},
   "source": [
    "# Other Data Structures\n",
    "\n",
    "You should study up on as many other data structures and algorithms as possible. You should especially know about the most famous classes of NP-complete problems, such as traveling salesman and the knapsack problem, and be able to recognize them when an interviewer asks you them in disguise. Find out whatNP-complete means."
   ]
  },
  {
   "cell_type": "markdown",
   "metadata": {},
   "source": [
    "# Algorithms\n",
    "\n",
    "BFS and DFS, and know the difference between inorder, postorder and preorder.\n",
    "Graphs: Graphs are really important at Google. There are 3 basic ways to represent a graph in memory (objects and pointers, matrix, and adjacency list); familiarize yourself with each representation and its pros & cons. You should know the basic graph traversal algorithms: breadth-first search and depth-first search. Know their computational complexity, their tradeoffs, and how to implement them in real code. If you get a chance, try to study up on fancier algorithms, such as Dijkstra and A*.\n",
    "\n",
    "You may want to refresh hash tables, heaps, binary trees, linked lists, depth-first search, recursion. For more information on Algorithms you can visit:\n",
    "http://www.topcoder.com/tc?module=Static&d1=tutorials&d2=alg_index"
   ]
  },
  {
   "cell_type": "markdown",
   "metadata": {},
   "source": [
    "# Mathematics\n",
    "\n",
    "Some interviewers ask basic discrete math questions. This is more prevalent at Google than at other companies because counting problems, probability problems, and other Discrete Math 101 situations surrounds us. Spend some time before the interview refreshing your memory on (or teaching yourself) the essentials of combinatorics and probability. You should be familiar with n-choose-k problems and their ilk – the more the better."
   ]
  },
  {
   "cell_type": "markdown",
   "metadata": {},
   "source": [
    "# Operating Systems\n",
    "\n",
    "Know about processes, threads and concurrency issues. Know about locks and mutexes and semaphores and monitors and how they work. Know about deadlock and livelock and how to avoid them. Know what resources a processes needs, and a thread needs, and how context switching works, and how it's initiated by the operating system and underlying hardware. Know a little about scheduling. The world is rapidly moving towards multi-core, so know the fundamentals of \"modern\" concurrency constructs. For information on System Design:\n",
    "http://research.google.com/pubs/DistributedSystemsandParallelComputing.html"
   ]
  },
  {
   "cell_type": "code",
   "execution_count": null,
   "metadata": {
    "collapsed": true
   },
   "outputs": [],
   "source": []
  }
 ],
 "metadata": {
  "kernelspec": {
   "display_name": "conda env py352_tf_cpu",
   "language": "python",
   "name": "py352_tf_cpu"
  },
  "language_info": {
   "codemirror_mode": {
    "name": "ipython",
    "version": 3
   },
   "file_extension": ".py",
   "mimetype": "text/x-python",
   "name": "python",
   "nbconvert_exporter": "python",
   "pygments_lexer": "ipython3",
   "version": "3.5.2"
  },
  "widgets": {
   "state": {},
   "version": "1.1.2"
  }
 },
 "nbformat": 4,
 "nbformat_minor": 2
}
