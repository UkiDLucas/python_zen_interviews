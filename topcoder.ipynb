{
 "cells": [
  {
   "cell_type": "markdown",
   "metadata": {},
   "source": [
    "# Coding\n",
    "\n",
    "You should know at least one programming language really well (preferably C++,  Java or Python). You will be expected to write some code in at least some of your interviews. You will be expected to know a fair amount of detail about your preferred programming language and will be asked to do some coding on the whiteboard."
   ]
  },
  {
   "cell_type": "markdown",
   "metadata": {},
   "source": [
    "# TopCoder: Importance of Algorithims\n",
    "\n",
    "https://www.topcoder.com/community/data-science/data-science-tutorials/the-importance-of-algorithms/\n",
    "\n",
    "\"Algorithms are optimized ways for accomplishing a given, well-defined task.\""
   ]
  },
  {
   "cell_type": "markdown",
   "metadata": {},
   "source": [
    "# Big-O notation\n",
    "\n",
    "Big-O notations is also known as \"the run time characteristic of an algorithm\", as it describes the **runtime relative to the size of the input**.\n",
    "\n",
    "For input size of N items it provides the worst-case runtime.\n",
    "\n",
    "A computer can easily complete 1,000,000 trivial operations per second. (1 microsecond per operation)\n",
    "\n",
    "references:\n",
    "- https://rob-bell.net/2009/06/a-beginners-guide-to-big-o-notation/"
   ]
  },
  {
   "cell_type": "code",
   "execution_count": 1,
   "metadata": {
    "collapsed": true
   },
   "outputs": [],
   "source": [
    "N = 1000 # input size\n",
    "C = 1 # execution time per operation 1 second"
   ]
  },
  {
   "cell_type": "markdown",
   "metadata": {},
   "source": [
    "Below is the estimated completion time for 1 second (C = 1s) operation algorithm, where input items N = 100\n",
    "\n",
    "- $O(Log(N))$\t10-7 seconds \n",
    "- $O(1)$ 1.001 second\n",
    "- $O(N)$\t10-6 seconds \n",
    "- $O(N*Log(N))$\t10-5 seconds \n",
    "- $O(N^2)$\t10-4 seconds, i.e. runtime is proportional to the number of items squared\n",
    "- $O(N^6)$ 3 minutes \n",
    "- $O(2^N)$\t1,014 years \n",
    "- $O(N!)$\t10,142 years "
   ]
  },
  {
   "cell_type": "code",
   "execution_count": 2,
   "metadata": {
    "collapsed": false
   },
   "outputs": [],
   "source": [
    "class TimeIt():\n",
    "    from datetime import datetime\n",
    "    def __enter__(self):\n",
    "        self.start = self.datetime.now()\n",
    "    def __exit__(self, *args, **kwargs):\n",
    "        self.measured = self.datetime.now() - self.start\n",
    "        #print('runtime: {}'.format(self.measured))\n",
    "        times.append(self.measured.microseconds)"
   ]
  },
  {
   "cell_type": "code",
   "execution_count": 3,
   "metadata": {
    "collapsed": false,
    "scrolled": false
   },
   "outputs": [
    {
     "name": "stdout",
     "output_type": "stream",
     "text": [
      "1000\n",
      "sample_set:\n",
      " [ 87 150  26 139 244 937 157 656 700 920]\n",
      "sorted sample_set:\n",
      " [1, 2, 3, 4, 5, 6, 7, 7, 8, 9]\n",
      "sample_set:\n",
      " [ 87 150  26 139 244 937 157 656 700 920]\n",
      "sorted sample_set:\n",
      " [1, 2, 3, 4, 5, 6, 7, 7, 8, 9]\n"
     ]
    }
   ],
   "source": [
    "import numpy\n",
    "import timeit\n",
    "\n",
    "sample_set = numpy.random.randint(low=0, high=N, size=N, dtype='l')\n",
    "\n",
    "print(len(sample_set))\n",
    "\n",
    "times = []\n",
    "\n",
    "with TimeIt():\n",
    "    print(\"sample_set:\\n\", sample_set[0:10])\n",
    "with TimeIt():\n",
    "    print(\"sorted sample_set:\\n\", sorted(sample_set)[0:10])\n",
    "with TimeIt():\n",
    "    print(\"sample_set:\\n\", sample_set[0:10])\n",
    "with TimeIt():\n",
    "    print(\"sorted sample_set:\\n\", sorted(sample_set)[0:10])"
   ]
  },
  {
   "cell_type": "code",
   "execution_count": 4,
   "metadata": {
    "collapsed": false
   },
   "outputs": [],
   "source": [
    "def plot_results(sizes, times):\n",
    "    import numpy as np\n",
    "    logs = np.log10(sizes)\n",
    "    import matplotlib\n",
    "    import matplotlib.pyplot as plt\n",
    "    \n",
    "    sizes_times, = plt.plot(sizes, times, \".b\", label='Line 2') # blue dots\n",
    "    sizes_logs, = plt.plot(sizes, logs, \"y\", label='Line 2') # yellow line\n",
    "    \n",
    "    max_y = max(times)\n",
    "    import math\n",
    "    max_x = math.sqrt(max_y)\n",
    "    quadratic_x = np.linspace(0, max_x, 10)\n",
    "    quadratic_y = []\n",
    "\n",
    "    for value in quadratic_x:\n",
    "        quadratic_y.append(value*value)\n",
    "        \n",
    "    sizes_quadratic, = plt.plot(quadratic_x, quadratic_y, \"r\", label='Line 2') # yellow line\n",
    "\n",
    "    plt.legend([sizes_times, sizes_logs, sizes_quadratic], ['size vs time', 'size log(10)', \"size^2\"])\n",
    "\n",
    "    plt.ylabel('sample size')\n",
    "    plt.xlabel('microseconds')\n",
    "    #plt.axis([0, 6, 0, 20]) # axis spans\n",
    "    #plt.figure(figsize=(20,10))\n",
    "    fig = matplotlib.pyplot.gcf()\n",
    "    fig.set_size_inches(18.5, 10.5)\n",
    "    #fig.savefig('test2png.png', dpi=100)\n",
    "    plt.show()"
   ]
  },
  {
   "cell_type": "code",
   "execution_count": 5,
   "metadata": {
    "collapsed": true
   },
   "outputs": [],
   "source": [
    "def time_function(my_function):\n",
    "    times = []\n",
    "    sizes = []\n",
    "    for sample_size in range(0, N, 20):  \n",
    "        sizes.append(sample_size)\n",
    "        with TimeIt():\n",
    "            x = my_function(listing = sample_set[0:sample_size + 1])\n",
    "            print (sample_size, \"sample_size produced first element =\", x)\n",
    "\n",
    "    print(\"times in microseconds\\n\",times)\n",
    "    print(\"sizes\\n\",sizes)\n",
    "\n",
    "    plot_results(sizes, times)"
   ]
  },
  {
   "cell_type": "markdown",
   "metadata": {},
   "source": [
    "## $O(1)$ \n",
    "\n",
    "executes the same amount of time regardless on input size, also noted a C."
   ]
  },
  {
   "cell_type": "code",
   "execution_count": 6,
   "metadata": {
    "collapsed": false,
    "scrolled": false
   },
   "outputs": [
    {
     "name": "stdout",
     "output_type": "stream",
     "text": [
      "times in microseconds\n",
      " [15, 3, 2, 1, 2, 2, 2, 1, 2, 2, 1, 2, 2, 2, 2, 2, 2, 2, 2, 2, 2, 2, 2, 2, 2, 2, 2, 2, 2, 2, 2, 2, 2, 1, 2, 2, 2, 2, 2, 57, 3, 9, 3, 2, 13, 2, 4, 3, 3, 3]\n",
      "sizes\n",
      " [0, 20, 40, 60, 80, 100, 120, 140, 160, 180, 200, 220, 240, 260, 280, 300, 320, 340, 360, 380, 400, 420, 440, 460, 480, 500, 520, 540, 560, 580, 600, 620, 640, 660, 680, 700, 720, 740, 760, 780, 800, 820, 840, 860, 880, 900, 920, 940, 960, 980]\n"
     ]
    },
    {
     "name": "stderr",
     "output_type": "stream",
     "text": [
      "/Users/ukilucas/anaconda3/envs/py352_tf_cpu/lib/python3.5/site-packages/ipykernel/__main__.py:3: RuntimeWarning: divide by zero encountered in log10\n",
      "  app.launch_new_instance()\n"
     ]
    },
    {
     "data": {
      "image/png": "[encoded data removed]",
      "text/plain": [
       "<matplotlib.figure.Figure at 0x115f792b0>"
      ]
     },
     "metadata": {},
     "output_type": "display_data"
    }
   ],
   "source": [
    "import time\n",
    "\n",
    "def return_first_element(listing: list):\n",
    "    #time.sleep(C)\n",
    "    return listing[0]\n",
    "\n",
    "times = []\n",
    "sizes = []\n",
    "for sample_size in range(0, N, 20):  \n",
    "    sizes.append(sample_size)\n",
    "    with TimeIt():\n",
    "        x = return_first_element(listing = sample_set[0:sample_size + 1])\n",
    "        #print (sample_size, \"sample_size produced first element =\", x)\n",
    "    \n",
    "print(\"times in microseconds\\n\",times)\n",
    "print(\"sizes\\n\",sizes)\n",
    "\n",
    "plot_results(sizes, times)"
   ]
  },
  {
   "cell_type": "markdown",
   "metadata": {},
   "source": [
    "# $O(N)$\n",
    "\n",
    "Performance grows linearly in direct proportion to the size of the input data set"
   ]
  },
  {
   "cell_type": "code",
   "execution_count": 7,
   "metadata": {
    "collapsed": false
   },
   "outputs": [
    {
     "name": "stdout",
     "output_type": "stream",
     "text": [
      "639\n",
      "runtime in microseconds:\n",
      " [11, 5, 7, 7, 10, 11, 14, 13, 15, 27, 29, 12, 42, 44, 35, 26, 21, 30, 1, 40, 35, 27, 38, 40, 53, 36, 45, 3, 49, 33, 9, 53, 56, 57, 61, 8, 45, 62, 65, 66, 62, 10, 72, 73, 6, 55, 48, 66, 7, 50]\n",
      "data set size:\n",
      " [0, 20, 40, 60, 80, 100, 120, 140, 160, 180, 200, 220, 240, 260, 280, 300, 320, 340, 360, 380, 400, 420, 440, 460, 480, 500, 520, 540, 560, 580, 600, 620, 640, 660, 680, 700, 720, 740, 760, 780, 800, 820, 840, 860, 880, 900, 920, 940, 960, 980]\n"
     ]
    },
    {
     "name": "stderr",
     "output_type": "stream",
     "text": [
      "/Users/ukilucas/anaconda3/envs/py352_tf_cpu/lib/python3.5/site-packages/ipykernel/__main__.py:3: RuntimeWarning: divide by zero encountered in log10\n",
      "  app.launch_new_instance()\n"
     ]
    },
    {
     "data": {
      "image/png": "[encoded data removed]",
      "text/plain": [
       "<matplotlib.figure.Figure at 0x10ecd7d68>"
      ]
     },
     "metadata": {},
     "output_type": "display_data"
    }
   ],
   "source": [
    "value = sample_set[-1] # last element\n",
    "#print(sample_set)\n",
    "print(value) \n",
    "\n",
    "def find_value(elements: list, value: str):\n",
    "    for item in elements:\n",
    "        if (item == value): \n",
    "            return True\n",
    "    return False\n",
    "\n",
    "\n",
    "\n",
    "times = []\n",
    "sizes = []\n",
    "for sample_size in range(0, N, 20):  \n",
    "    sizes.append(sample_size)\n",
    "    \n",
    "    current_set = sample_set[0:sample_size + 1]\n",
    "    value = current_set[-1] # last value in the set\n",
    "    \n",
    "    with TimeIt():\n",
    "        x = find_value(current_set, value)\n",
    "        #print (sample_size, \"sample_size produced first element =\", x)\n",
    "    \n",
    "print(\"runtime in microseconds:\\n\",times)\n",
    "print(\"data set size:\\n\",sizes)\n",
    "\n",
    "plot_results(sizes, times)"
   ]
  },
  {
   "cell_type": "code",
   "execution_count": 8,
   "metadata": {
    "collapsed": false
   },
   "outputs": [],
   "source": [
    "def find_first(array: list, value):\n",
    "    \"\"\"\n",
    "    Returns ferst index of the first location where velue was found.\n",
    "    \"\"\"\n",
    "    indexes = numpy.where(array == value)\n",
    "    #print(indexes) # e.g. (array([  0, 444, 599]),)\n",
    "    return indexes[0][0] # first element\n",
    "    \n",
    "#print(find_first(sample_set, 409))"
   ]
  },
  {
   "cell_type": "markdown",
   "metadata": {},
   "source": [
    "# $O(N2)$\n",
    "\n",
    "Proportional to sqare of number of input values.\n",
    "Double iteration loop."
   ]
  },
  {
   "cell_type": "code",
   "execution_count": 9,
   "metadata": {
    "collapsed": false
   },
   "outputs": [
    {
     "name": "stdout",
     "output_type": "stream",
     "text": [
      "runtime in microseconds:\n",
      " [11, 125, 458, 996, 1749, 4454, 5279, 6038, 7247, 10654, 12562, 14653, 16907, 20318, 22940, 27229, 30397, 34641, 40581, 43378, 48377, 54611, 58857, 66438, 70384, 76028, 85723, 89238, 95123, 101748, 112180, 122026, 129061, 132706, 142350, 150660, 172496, 181644, 197479, 192327, 196916, 208694, 223109, 275506, 241343, 255313, 260787, 275497, 285098, 302041]\n",
      "data set size:\n",
      " [0, 20, 40, 60, 80, 100, 120, 140, 160, 180, 200, 220, 240, 260, 280, 300, 320, 340, 360, 380, 400, 420, 440, 460, 480, 500, 520, 540, 560, 580, 600, 620, 640, 660, 680, 700, 720, 740, 760, 780, 800, 820, 840, 860, 880, 900, 920, 940, 960, 980]\n"
     ]
    },
    {
     "name": "stderr",
     "output_type": "stream",
     "text": [
      "/Users/ukilucas/anaconda3/envs/py352_tf_cpu/lib/python3.5/site-packages/ipykernel/__main__.py:3: RuntimeWarning: divide by zero encountered in log10\n",
      "  app.launch_new_instance()\n"
     ]
    },
    {
     "data": {
      "image/png": "[encoded data removed]",
      "text/plain": [
       "<matplotlib.figure.Figure at 0x1193e06d8>"
      ]
     },
     "metadata": {},
     "output_type": "display_data"
    }
   ],
   "source": [
    "def find_duplicates(listing: list):\n",
    "    #print(type(listing))\n",
    "    has_found = False\n",
    "    for index_outer in range(0, len(listing)):\n",
    "        for index_inner in range(0, len(listing)):\n",
    "            if index_outer != index_inner: # do not compare to self\n",
    "                outer = listing[index_outer]\n",
    "                inner = listing[index_inner]\n",
    "                if (outer == inner):\n",
    "                    #print(outer, index_outer, inner,index_inner)\n",
    "                    #return True # we want worse case scenario\n",
    "                    has_found = True\n",
    "    return has_found\n",
    "\n",
    "find_duplicates(sample_set)\n",
    "\n",
    "\n",
    "times = []\n",
    "sizes = []\n",
    "for sample_size in range(0, N, 20):  \n",
    "    sizes.append(sample_size)\n",
    "    \n",
    "    current_set = sample_set[0:sample_size + 1]\n",
    "    #value = current_set[-1] # last value in the set\n",
    "    \n",
    "    with TimeIt():\n",
    "        find_duplicates(current_set)\n",
    "    \n",
    "print(\"runtime in microseconds:\\n\",times)\n",
    "print(\"data set size:\\n\",sizes)\n",
    "\n",
    "plot_results(sizes, times)"
   ]
  },
  {
   "cell_type": "markdown",
   "metadata": {},
   "source": []
  },
  {
   "cell_type": "markdown",
   "metadata": {},
   "source": [
    "# Hashtables (dictionary, hash map)\n",
    "\n",
    "Arguably the single most important data structure known to mankind. You absolutely should know how they work. Be able to implement one using only arrays in your favorite language, in about the space of one interview.\n",
    "\n",
    "O(1) to insert and lookup"
   ]
  },
  {
   "cell_type": "code",
   "execution_count": 48,
   "metadata": {
    "collapsed": false
   },
   "outputs": [
    {
     "name": "stdout",
     "output_type": "stream",
     "text": [
      "{'Ada': 68, 'Adam': 34, 'Jen': 12}\n",
      "object type <class 'dict'>\n",
      "Jen 12\n",
      "min key Ada\n",
      "max key Jen\n",
      "as str {'Adam': 34, 'Jen': 12}\n",
      "item tuple ('Ada', 68)\n",
      "item tuple ('Adam', 34)\n",
      "item tuple ('Jen', 12)\n",
      "keys ['Ada', 'Adam', 'Jen']\n",
      "values [68, 34, 12]\n",
      "min value 12\n"
     ]
    }
   ],
   "source": [
    "# define the dictonary\n",
    "person_age = {\n",
    "    'Adam': 34,\n",
    "    'Jen': 12,\n",
    "    'Ada': 68\n",
    "}\n",
    "print (str(person_age))\n",
    "print (\"object type\", type(person_age))\n",
    "print (\"Jen\", person_age['Jen'] )\n",
    "print (\"min key\", min(person_age) )\n",
    "print (\"max key\", max(person_age) )\n",
    "#person_age.has_key(\"Ada\")\n",
    "del(person_age[\"Ada\"])\n",
    "print (\"as str\", str(person_age))\n",
    "\n",
    "#person_age.put(\"Ada\": 68)\n",
    "\n",
    "person_age[\"Ada\"] = 68\n",
    "\n",
    "for item in person_age.items():\n",
    "    print(\"item tuple\", item)\n",
    "    \n",
    "    \n",
    "print(\"keys\", list(person_age.keys()))\n",
    "\n",
    "values = list(dict.values(person_age) )\n",
    "print(\"values\", values)\n",
    "print (\"min value\", min(values))"
   ]
  },
  {
   "cell_type": "markdown",
   "metadata": {},
   "source": [
    "# Sorting\n",
    "\n",
    "Know how to sort. Don't do bubble-sort. You should know the details of at least one n*log(n) sorting algorithm, preferably two (say, quicksort and merge sort). Merge sort can be highly useful in situations where quick sort is impractical, so take a look at it."
   ]
  },
  {
   "cell_type": "markdown",
   "metadata": {},
   "source": [
    "# Trees\n",
    "\n",
    "Know about trees; basic tree construction, traversal and manipulation algorithms. Familiarize yourself with binary trees, n-ary trees, and trie-trees. Be familiar with at least one type of balanced binary tree, whether it's a red/black tree, a splay tree or an AVL tree, and know how it's implemented. Understand tree traversal"
   ]
  },
  {
   "cell_type": "markdown",
   "metadata": {},
   "source": [
    "# Other Data Structures\n",
    "\n",
    "You should study up on as many other data structures and algorithms as possible. You should especially know about the most famous classes of NP-complete problems, such as traveling salesman and the knapsack problem, and be able to recognize them when an interviewer asks you them in disguise. Find out whatNP-complete means."
   ]
  },
  {
   "cell_type": "markdown",
   "metadata": {},
   "source": [
    "# Algorithms\n",
    "\n",
    "BFS and DFS, and know the difference between inorder, postorder and preorder.\n",
    "Graphs: Graphs are really important at Google. There are 3 basic ways to represent a graph in memory (objects and pointers, matrix, and adjacency list); familiarize yourself with each representation and its pros & cons. You should know the basic graph traversal algorithms: breadth-first search and depth-first search. Know their computational complexity, their tradeoffs, and how to implement them in real code. If you get a chance, try to study up on fancier algorithms, such as Dijkstra and A*.\n",
    "\n",
    "You may want to refresh hash tables, heaps, binary trees, linked lists, depth-first search, recursion. For more information on Algorithms you can visit:\n",
    "http://www.topcoder.com/tc?module=Static&d1=tutorials&d2=alg_index"
   ]
  },
  {
   "cell_type": "markdown",
   "metadata": {},
   "source": [
    "# Mathematics\n",
    "\n",
    "Some interviewers ask basic discrete math questions. This is more prevalent at Google than at other companies because counting problems, probability problems, and other Discrete Math 101 situations surrounds us. Spend some time before the interview refreshing your memory on (or teaching yourself) the essentials of combinatorics and probability. You should be familiar with n-choose-k problems and their ilk – the more the better."
   ]
  },
  {
   "cell_type": "markdown",
   "metadata": {},
   "source": [
    "# Operating Systems\n",
    "\n",
    "Know about processes, threads and concurrency issues. Know about locks and mutexes and semaphores and monitors and how they work. Know about deadlock and livelock and how to avoid them. Know what resources a processes needs, and a thread needs, and how context switching works, and how it's initiated by the operating system and underlying hardware. Know a little about scheduling. The world is rapidly moving towards multi-core, so know the fundamentals of \"modern\" concurrency constructs. For information on System Design:\n",
    "http://research.google.com/pubs/DistributedSystemsandParallelComputing.html"
   ]
  },
  {
   "cell_type": "code",
   "execution_count": null,
   "metadata": {
    "collapsed": true
   },
   "outputs": [],
   "source": []
  }
 ],
 "metadata": {
  "anaconda-cloud": {},
  "kernelspec": {
   "display_name": "Python [conda root]",
   "language": "python",
   "name": "conda-root-py"
  },
  "language_info": {
   "codemirror_mode": {
    "name": "ipython",
    "version": 3
   },
   "file_extension": ".py",
   "mimetype": "text/x-python",
   "name": "python",
   "nbconvert_exporter": "python",
   "pygments_lexer": "ipython3",
   "version": "3.5.2"
  }
 },
 "nbformat": 4,
 "nbformat_minor": 2
}
