{
 "cells": [
  {
   "cell_type": "markdown",
   "metadata": {},
   "source": [
    "# Bubble sort"
   ]
  },
  {
   "cell_type": "code",
   "execution_count": 1,
   "metadata": {
    "collapsed": true
   },
   "outputs": [],
   "source": [
    "perform_tests = True"
   ]
  },
  {
   "cell_type": "code",
   "execution_count": 2,
   "metadata": {
    "collapsed": false
   },
   "outputs": [],
   "source": [
    "def bubble_sort(the_list: list, verbose: int=0):\n",
    "    \"\"\"\n",
    "    author: @UkiDLcuas\n",
    "    This function changes the provided list.\n",
    "    The list can contain integers, decimal numbers, strings, etc.\n",
    "    The list is sorted in ascending order (first to last).\n",
    "    The function does not return anything.\n",
    "    \"\"\"\n",
    "    if verbose > 0:\n",
    "        iteration = 0\n",
    "    \n",
    "    # count remining bubbles ( aka step backwards)\n",
    "    start = len(the_list)-1 # end, zero-based list\n",
    "    stop = 0 # beginning\n",
    "    step = -1 # backwards\n",
    "    for remaining_bubbles in range(start, stop, step):\n",
    "        for i in range(remaining_bubbles):\n",
    "            if verbose > 0:\n",
    "                iteration = iteration + 1\n",
    "                print(\"iteration\", iteration, \"remaining_bubbles\", remaining_bubbles, \"index\", i) \n",
    "                print(\"  \", the_list)\n",
    "                print(\"    comparing if is\", the_list[i], \"bigger than\", the_list[i+1])\n",
    "            if the_list[i] > the_list[i+1]:\n",
    "                # swap\n",
    "                temp = the_list[i+1] # temp placehoder for the value to be moved\n",
    "                the_list[i+1] = the_list[i] # bubble up\n",
    "                the_list[i] = temp # bubble down\n",
    "    if verbose > 0:\n",
    "        print(\"*** finished\", len(the_list), \"element list in \", iteration, \"iterations\")"
   ]
  },
  {
   "cell_type": "code",
   "execution_count": 3,
   "metadata": {
    "collapsed": false
   },
   "outputs": [
    {
     "name": "stdout",
     "output_type": "stream",
     "text": [
      "iteration 1 remaining_bubbles 3 index 0\n",
      "   ['gamma', 'alfa', 'beta', 'kappa']\n",
      "    comparing if is gamma bigger than alfa\n",
      "iteration 2 remaining_bubbles 3 index 1\n",
      "   ['alfa', 'gamma', 'beta', 'kappa']\n",
      "    comparing if is gamma bigger than beta\n",
      "iteration 3 remaining_bubbles 3 index 2\n",
      "   ['alfa', 'beta', 'gamma', 'kappa']\n",
      "    comparing if is gamma bigger than kappa\n",
      "iteration 4 remaining_bubbles 2 index 0\n",
      "   ['alfa', 'beta', 'gamma', 'kappa']\n",
      "    comparing if is alfa bigger than beta\n",
      "iteration 5 remaining_bubbles 2 index 1\n",
      "   ['alfa', 'beta', 'gamma', 'kappa']\n",
      "    comparing if is beta bigger than gamma\n",
      "iteration 6 remaining_bubbles 1 index 0\n",
      "   ['alfa', 'beta', 'gamma', 'kappa']\n",
      "    comparing if is alfa bigger than beta\n",
      "*** finished 4 element list in  6 iterations\n",
      "['alfa', 'beta', 'gamma', 'kappa']\n"
     ]
    }
   ],
   "source": [
    "# EXAMPLES:\n",
    "if perform_tests:\n",
    "    \n",
    "    my_list = [\"gamma\", \"alfa\", \"beta\", \"kappa\"]\n",
    "    bubble_sort(my_list, verbose = 1)\n",
    "    print(my_list)"
   ]
  },
  {
   "cell_type": "code",
   "execution_count": 4,
   "metadata": {
    "collapsed": false
   },
   "outputs": [
    {
     "name": "stdout",
     "output_type": "stream",
     "text": [
      "[1, 2, 3, 4, 5, 6, 7, 8, 9]\n"
     ]
    }
   ],
   "source": [
    "# EXAMPLES:\n",
    "if perform_tests:\n",
    "    \n",
    "\n",
    "    my_list = [4,8,2,5,9,1,6,3,7]\n",
    "    bubble_sort(my_list, verbose=0)\n",
    "    print(my_list)"
   ]
  },
  {
   "cell_type": "code",
   "execution_count": 5,
   "metadata": {
    "collapsed": false
   },
   "outputs": [
    {
     "name": "stdout",
     "output_type": "stream",
     "text": [
      "[1, 2.7, 3, 4.6, 5.3, 6, 7, 8.1, 9]\n",
      "['a', 'b', 'c', 'd']\n",
      "['alfa', 'betta', 'gamma', 'kappa']\n"
     ]
    }
   ],
   "source": [
    "# EXAMPLES:\n",
    "if perform_tests:\n",
    "    \n",
    "\n",
    "    my_list = [4.6,8.1,2.7,5.3,9,1,6,3,7]\n",
    "    bubble_sort(my_list)\n",
    "    print(my_list)\n",
    "\n",
    "    my_list = [\"c\", \"a\", \"b\", \"d\"]\n",
    "    bubble_sort(my_list)\n",
    "    print(my_list)\n",
    "\n",
    "\n",
    "    my_list = [\"gamma\", \"alfa\", \"betta\", \"kappa\"]\n",
    "    bubble_sort(my_list)\n",
    "    print(my_list)"
   ]
  },
  {
   "cell_type": "code",
   "execution_count": 6,
   "metadata": {
    "collapsed": false
   },
   "outputs": [
    {
     "name": "stdout",
     "output_type": "stream",
     "text": [
      "[]\n"
     ]
    }
   ],
   "source": [
    "# CORNER CASEES\n",
    "if perform_tests:\n",
    "    my_list = [] # empty list\n",
    "    bubble_sort(my_list)\n",
    "    print(my_list)"
   ]
  },
  {
   "cell_type": "code",
   "execution_count": null,
   "metadata": {
    "collapsed": true
   },
   "outputs": [],
   "source": []
  }
 ],
 "metadata": {
  "anaconda-cloud": {},
  "kernelspec": {
   "display_name": "Python [conda root]",
   "language": "python",
   "name": "conda-root-py"
  },
  "language_info": {
   "codemirror_mode": {
    "name": "ipython",
    "version": 3
   },
   "file_extension": ".py",
   "mimetype": "text/x-python",
   "name": "python",
   "nbconvert_exporter": "python",
   "pygments_lexer": "ipython3",
   "version": "3.5.2"
  }
 },
 "nbformat": 4,
 "nbformat_minor": 2
}
