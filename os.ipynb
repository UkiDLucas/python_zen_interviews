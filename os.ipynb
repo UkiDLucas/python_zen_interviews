{
 "cells": [
  {
   "cell_type": "code",
   "execution_count": 26,
   "metadata": {
    "collapsed": false
   },
   "outputs": [
    {
     "name": "stdout",
     "output_type": "stream",
     "text": [
      "    ./.DS_Store\n",
      "    ./.git\n",
      "        ./.git/branches\n",
      "        ./.git/COMMIT_EDITMSG\n",
      "        ./.git/config\n",
      "        ./.git/description\n",
      "        ./.git/FETCH_HEAD\n",
      "        ./.git/HEAD\n",
      "        ./.git/hooks\n",
      "        ./.git/index\n",
      "        ./.git/info\n",
      "        ./.git/lfs\n",
      "        ./.git/logs\n",
      "        ./.git/objects\n",
      "        ./.git/ORIG_HEAD\n",
      "        ./.git/packed-refs\n",
      "        ./.git/refs\n",
      "    ./.gitignore\n",
      "    ./.ipynb_checkpoints\n",
      "        ./.ipynb_checkpoints/best_practices-checkpoint.ipynb\n",
      "        ./.ipynb_checkpoints/binary_tree-checkpoint.ipynb\n",
      "        ./.ipynb_checkpoints/bubble_sort-checkpoint.ipynb\n",
      "        ./.ipynb_checkpoints/os-checkpoint.ipynb\n",
      "        ./.ipynb_checkpoints/README-checkpoint.ipynb\n",
      "    ./best_practices.html\n",
      "    ./best_practices.ipynb\n",
      "    ./best_practices.py\n",
      "    ./binary_tree.html\n",
      "    ./binary_tree.ipynb\n",
      "    ./binary_tree.py\n",
      "    ./bubble_sort.html\n",
      "    ./bubble_sort.ipynb\n",
      "    ./bubble_sort.py\n",
      "    ./os.html\n",
      "    ./os.ipynb\n",
      "    ./os.py\n",
      "    ./README.html\n",
      "    ./README.ipynb\n",
      "    ./README.md\n",
      "    ./README.py\n",
      "    ./Untitled.html\n",
      "    ./Untitled.txt\n"
     ]
    }
   ],
   "source": [
    "def print_directory_contents(dir_path, level=0):\n",
    "    \"\"\"\n",
    "    This function takes the name of a directory \n",
    "    and prints out the paths files within that \n",
    "    directory as well as any files contained in \n",
    "    contained directories. \n",
    "\n",
    "    This function is similar to os.walk. Please don't\n",
    "    use os.walk in your answer. We are interested in your \n",
    "    ability to work with nested structures. \n",
    "    \"\"\"\n",
    "    level = level + 1\n",
    "    import os\n",
    "    listing = os.listdir(dir_path) # returns list\n",
    "    for item in listing:\n",
    "        child_path = os.path.join(dir_path,item)\n",
    "        print(level * \"    \" + child_path) # standard 4 spaces indent\n",
    "        if os.path.isdir(item):\n",
    "            print_directory_contents(child_path, level)\n",
    "                        \n",
    "    \n",
    "print_directory_contents(\".\")"
   ]
  },
  {
   "cell_type": "code",
   "execution_count": null,
   "metadata": {
    "collapsed": true
   },
   "outputs": [],
   "source": []
  }
 ],
 "metadata": {
  "kernelspec": {
   "display_name": "conda env py352_tf_cpu",
   "language": "python",
   "name": "py352_tf_cpu"
  },
  "language_info": {
   "codemirror_mode": {
    "name": "ipython",
    "version": 3
   },
   "file_extension": ".py",
   "mimetype": "text/x-python",
   "name": "python",
   "nbconvert_exporter": "python",
   "pygments_lexer": "ipython3",
   "version": "3.5.2"
  },
  "widgets": {
   "state": {},
   "version": "1.1.2"
  }
 },
 "nbformat": 4,
 "nbformat_minor": 2
}
