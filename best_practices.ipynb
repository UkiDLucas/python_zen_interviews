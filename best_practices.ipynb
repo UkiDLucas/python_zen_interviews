{
 "cells": [
  {
   "cell_type": "markdown",
   "metadata": {
    "deletable": true,
    "editable": true
   },
   "source": [
    "# Readability over compactness\n",
    "\n",
    "In Python community, including the official documentation and examples, there is **a tendency to use most compact and esoteric syntax possible, that does not serve anyone**. I, as a hiring manager, do not want to hire people who pride themselves in writing an unreadable code. This tendency also shows immaturity, the orgin of that tendency can be two-fold: \n",
    "\n",
    "- the original authors were loner-hacker types that only cared to write a short scripts that served themselves\n",
    "- the original authors were academics that never worked for an extended amount of time in a large team\n",
    "\n",
    "Maintaining an unreadable code is a nightmare and often it is easier to re-write it from scratch.\n",
    "\n",
    "Finally, I believe the code should be self-commenting and comments should be used only when the developer exhausts all possible opitions to make their code more readable.\n",
    "\n",
    "The classes and functions should have description and examples of how should they be used."
   ]
  },
  {
   "cell_type": "markdown",
   "metadata": {
    "deletable": true,
    "editable": true
   },
   "source": [
    "# Python naming conventions (PEP8 compliant)\n",
    "\n",
    "\n",
    "- **Packages** (directory name) should have short, **all-lowercase** names, underscores are discouraged.\n",
    "- **Modules** (source file name) should have short, **all-lowercase** names, underscores can be used. \n",
    "- **Classes** should normally use the **CapWords** convention.\n",
    "- **Constants** should be written in **UPPER_CASE_WITH_UNDERSCORES**\n",
    "- **Variables** should be written in **lower_case_with_underscores**\n",
    "\n",
    "Read more at:\n",
    "\n",
    "https://www.python.org/dev/peps/pep-0008/"
   ]
  },
  {
   "cell_type": "code",
   "execution_count": null,
   "metadata": {
    "collapsed": true,
    "deletable": true,
    "editable": true
   },
   "outputs": [],
   "source": []
  }
 ],
 "metadata": {
  "kernelspec": {
   "display_name": "conda env py352_tf_gpu",
   "language": "python",
   "name": "py352_tf_gpu"
  },
  "language_info": {
   "codemirror_mode": {
    "name": "ipython",
    "version": 3
   },
   "file_extension": ".py",
   "mimetype": "text/x-python",
   "name": "python",
   "nbconvert_exporter": "python",
   "pygments_lexer": "ipython3",
   "version": "3.5.2"
  },
  "widgets": {
   "state": {},
   "version": "1.1.2"
  }
 },
 "nbformat": 4,
 "nbformat_minor": 2
}
