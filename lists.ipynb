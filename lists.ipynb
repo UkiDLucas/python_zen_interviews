{
 "cells": [
  {
   "cell_type": "code",
   "execution_count": 1,
   "metadata": {
    "collapsed": false
   },
   "outputs": [
    {
     "name": "stdout",
     "output_type": "stream",
     "text": [
      "{'e': 5, 'd': 4, 'b': 2, 'a': 1, 'c': 3}\n",
      "['a', 'b', 'c', 'd', 'e']\n",
      "[1, 2, 3, 4, 5]\n"
     ]
    }
   ],
   "source": [
    "A0 = dict(zip(('a','b','c','d','e'),(1,2,3,4,5)))\n",
    "print(A0)\n",
    "print(sorted(A0)) # same as .keys\n",
    "print(sorted(A0.values() ))"
   ]
  },
  {
   "cell_type": "code",
   "execution_count": 2,
   "metadata": {
    "collapsed": false
   },
   "outputs": [
    {
     "name": "stdout",
     "output_type": "stream",
     "text": [
      "range(0, 10)\n"
     ]
    }
   ],
   "source": [
    "A1 = range(10)\n",
    "print(A1)"
   ]
  },
  {
   "cell_type": "code",
   "execution_count": 3,
   "metadata": {
    "collapsed": false
   },
   "outputs": [
    {
     "name": "stdout",
     "output_type": "stream",
     "text": [
      "[]\n"
     ]
    }
   ],
   "source": [
    "A2 = sorted([i for i in A1 if i in A0])\n",
    "print(A2)"
   ]
  },
  {
   "cell_type": "code",
   "execution_count": 4,
   "metadata": {
    "collapsed": false
   },
   "outputs": [
    {
     "name": "stdout",
     "output_type": "stream",
     "text": [
      "[1, 2, 3, 4, 5]\n"
     ]
    }
   ],
   "source": [
    "A3 = sorted([A0[s] for s in A0])\n",
    "print(A3)"
   ]
  },
  {
   "cell_type": "code",
   "execution_count": 5,
   "metadata": {
    "collapsed": false
   },
   "outputs": [
    {
     "name": "stdout",
     "output_type": "stream",
     "text": [
      "[1, 2, 3, 4, 5]\n"
     ]
    }
   ],
   "source": [
    "A4 = [i for i in A1 if i in A3]\n",
    "print(A4)"
   ]
  },
  {
   "cell_type": "code",
   "execution_count": 6,
   "metadata": {
    "collapsed": false
   },
   "outputs": [
    {
     "name": "stdout",
     "output_type": "stream",
     "text": [
      "{0: 0, 1: 1, 2: 4, 3: 9, 4: 16, 5: 25, 6: 36, 7: 49, 8: 64, 9: 81}\n"
     ]
    }
   ],
   "source": [
    "A5 = {i:i*i for i in A1}\n",
    "print(A5)"
   ]
  },
  {
   "cell_type": "code",
   "execution_count": 7,
   "metadata": {
    "collapsed": false
   },
   "outputs": [
    {
     "name": "stdout",
     "output_type": "stream",
     "text": [
      "[[0, 0], [1, 1], [2, 4], [3, 9], [4, 16], [5, 25], [6, 36], [7, 49], [8, 64], [9, 81]]\n"
     ]
    }
   ],
   "source": [
    "A6 = [[i,i*i] for i in A1]\n",
    "print(A6)"
   ]
  },
  {
   "cell_type": "code",
   "execution_count": 11,
   "metadata": {
    "collapsed": false
   },
   "outputs": [
    {
     "name": "stdout",
     "output_type": "stream",
     "text": [
      "[]\n",
      "range(0, 2)\n",
      "[0, 1]\n"
     ]
    }
   ],
   "source": [
    "def f(x,l=[]):\n",
    "    print(l) # range has zero notation\n",
    "    print(range(x)) # range has zero notation\n",
    "    for i in range(x):\n",
    "        l.append(i*i)\n",
    "    print(l) \n",
    "\n",
    "f(2)"
   ]
  },
  {
   "cell_type": "code",
   "execution_count": 12,
   "metadata": {
    "collapsed": false
   },
   "outputs": [
    {
     "name": "stdout",
     "output_type": "stream",
     "text": [
      "[3, 2, 1]\n",
      "range(0, 3)\n",
      "[3, 2, 1, 0, 1, 4]\n"
     ]
    }
   ],
   "source": [
    "f(3,[3,2,1])"
   ]
  },
  {
   "cell_type": "code",
   "execution_count": 13,
   "metadata": {
    "collapsed": false
   },
   "outputs": [
    {
     "name": "stdout",
     "output_type": "stream",
     "text": [
      "[0, 1]\n",
      "range(0, 3)\n",
      "[0, 1, 0, 1, 4]\n"
     ]
    }
   ],
   "source": [
    "f(3)"
   ]
  },
  {
   "cell_type": "code",
   "execution_count": 14,
   "metadata": {
    "collapsed": false
   },
   "outputs": [
    {
     "name": "stdout",
     "output_type": "stream",
     "text": [
      "[0, 1]\n",
      "[3, 2, 1, 0, 1, 4]\n",
      "[0, 1, 0, 1, 4]\n"
     ]
    }
   ],
   "source": [
    "l_mem = []\n",
    "\n",
    "l = l_mem           # the first call\n",
    "for i in range(2):\n",
    "    l.append(i*i)\n",
    "\n",
    "print(l)            # [0, 1]\n",
    "\n",
    "l = [3,2,1]         # the second call\n",
    "for i in range(3):\n",
    "    l.append(i*i)\n",
    "\n",
    "print(l)            # [3, 2, 1, 0, 1, 4]\n",
    "\n",
    "l = l_mem           # the third call\n",
    "for i in range(3):\n",
    "    l.append(i*i)\n",
    "\n",
    "print(l)            # [0, 1, 0, 1, 4]"
   ]
  },
  {
   "cell_type": "markdown",
   "metadata": {},
   "source": [
    "# Monkey Patching"
   ]
  },
  {
   "cell_type": "code",
   "execution_count": 16,
   "metadata": {
    "collapsed": false
   },
   "outputs": [],
   "source": [
    "import datetime\n",
    "#datetime.datetime.now = lambda: datetime.datetime(2012, 12, 12)"
   ]
  },
  {
   "cell_type": "code",
   "execution_count": 17,
   "metadata": {
    "collapsed": false
   },
   "outputs": [
    {
     "name": "stdout",
     "output_type": "stream",
     "text": [
      "() {}\n",
      "(1, 2, 3) {}\n",
      "(1, 2, 3, 'groovy') {}\n",
      "() {'b': 2, 'a': 1, 'c': 3}\n",
      "() {'zzz': 'hi', 'b': 2, 'a': 1, 'c': 3}\n",
      "(1, 2, 3) {'b': 2, 'a': 1, 'c': 3}\n",
      "(1, 2, 3) {'b': 8, 'a': 7, 'c': 9}\n",
      "(4, 5, 6) {'b': 8, 'a': 7, 'c': 9}\n",
      "(1, 2, 4, 5, 6) {}\n",
      "() {'q': 'winning', 'b': 8, 'a': 7, 'c': 9}\n",
      "(1, 2, 4, 5, 6) {'q': 'winning', 'b': 8, 'a': 7, 'c': 9}\n"
     ]
    }
   ],
   "source": [
    "def f(*args,**kwargs): print(args, kwargs)\n",
    "\n",
    "l = [1,2,3]\n",
    "t = (4,5,6)\n",
    "d = {'a':7,'b':8,'c':9}\n",
    "\n",
    "f()\n",
    "f(1,2,3)                    # (1, 2, 3) {}\n",
    "f(1,2,3,\"groovy\")           # (1, 2, 3, 'groovy') {}\n",
    "f(a=1,b=2,c=3)              # () {'a': 1, 'c': 3, 'b': 2}\n",
    "f(a=1,b=2,c=3,zzz=\"hi\")     # () {'a': 1, 'c': 3, 'b': 2, 'zzz': 'hi'}\n",
    "f(1,2,3,a=1,b=2,c=3)        # (1, 2, 3) {'a': 1, 'c': 3, 'b': 2}\n",
    "\n",
    "f(*l,**d)                   # (1, 2, 3) {'a': 7, 'c': 9, 'b': 8}\n",
    "f(*t,**d)                   # (4, 5, 6) {'a': 7, 'c': 9, 'b': 8}\n",
    "f(1,2,*t)                   # (1, 2, 4, 5, 6) {}\n",
    "f(q=\"winning\",**d)          # () {'a': 7, 'q': 'winning', 'c': 9, 'b': 8}\n",
    "f(1,2,*t,q=\"winning\",**d)   # (1, 2, 4, 5, 6) {'a': 7, 'q': 'winning', 'c': 9, 'b': 8}"
   ]
  },
  {
   "cell_type": "code",
   "execution_count": 18,
   "metadata": {
    "collapsed": false
   },
   "outputs": [
    {
     "name": "stdout",
     "output_type": "stream",
     "text": [
      "1 2 (3,) {}\n",
      "1 2 (3, 'groovy') {}\n",
      "1 2 () {'c': 3}\n",
      "1 2 () {'zzz': 'hi', 'c': 3}\n",
      "1 2 (3,) {'b': 2, 'a': 1, 'c': 3}\n",
      "1 2 (3,) {'b': 8, 'a': 7, 'c': 9}\n",
      "4 5 (6,) {'b': 8, 'a': 7, 'c': 9}\n",
      "1 2 (4, 5, 6) {}\n",
      "1 1 () {'q': 'winning', 'b': 8, 'a': 7, 'c': 9}\n",
      "1 2 (4, 5, 6) {'q': 'winning', 'b': 8, 'a': 7, 'c': 9}\n"
     ]
    }
   ],
   "source": [
    "def f2(arg1,arg2,*args,**kwargs): print(arg1,arg2, args, kwargs)\n",
    "\n",
    "f2(1,2,3)                       # 1 2 (3,) {}\n",
    "f2(1,2,3,\"groovy\")              # 1 2 (3, 'groovy') {}\n",
    "f2(arg1=1,arg2=2,c=3)           # 1 2 () {'c': 3}\n",
    "f2(arg1=1,arg2=2,c=3,zzz=\"hi\")  # 1 2 () {'c': 3, 'zzz': 'hi'}\n",
    "f2(1,2,3,a=1,b=2,c=3)           # 1 2 (3,) {'a': 1, 'c': 3, 'b': 2}\n",
    "\n",
    "f2(*l,**d)                   # 1 2 (3,) {'a': 7, 'c': 9, 'b': 8}\n",
    "f2(*t,**d)                   # 4 5 (6,) {'a': 7, 'c': 9, 'b': 8}\n",
    "f2(1,2,*t)                   # 1 2 (4, 5, 6) {}\n",
    "f2(1,1,q=\"winning\",**d)      # 1 1 () {'a': 7, 'q': 'winning', 'c': 9, 'b': 8}\n",
    "f2(1,2,*t,q=\"winning\",**d)   # 1 2 (4, 5, 6) {'a': 7, 'q': 'winning', 'c': 9, 'b': 8} "
   ]
  },
  {
   "cell_type": "markdown",
   "metadata": {},
   "source": [
    "# Object Oriented Programming"
   ]
  },
  {
   "cell_type": "code",
   "execution_count": 23,
   "metadata": {
    "collapsed": false
   },
   "outputs": [
    {
     "name": "stdout",
     "output_type": "stream",
     "text": [
      "go A go!\n",
      "go A go!\n",
      "go B go!\n",
      "go A go!\n",
      "go C go!\n",
      "go A go!\n",
      "go C go!\n",
      "go B go!\n",
      "go D go!\n",
      "go A go!\n",
      "go C go!\n",
      "go B go!\n",
      "stop A stop!\n",
      "stop A stop!\n",
      "stop A stop!\n",
      "stop C stop!\n",
      "stop A stop!\n",
      "stop C stop!\n",
      "stop D stop!\n",
      "stop A stop!\n",
      "stop C stop!\n"
     ]
    },
    {
     "ename": "Exception",
     "evalue": "Not Implemented",
     "output_type": "error",
     "traceback": [
      "\u001b[0;31m---------------------------------------------------------------------------\u001b[0m",
      "\u001b[0;31mException\u001b[0m                                 Traceback (most recent call last)",
      "\u001b[0;32m<ipython-input-23-9442097c6656>\u001b[0m in \u001b[0;36m<module>\u001b[0;34m()\u001b[0m\n\u001b[1;32m     51\u001b[0m \u001b[0me\u001b[0m\u001b[0;34m.\u001b[0m\u001b[0mstop\u001b[0m\u001b[0;34m(\u001b[0m\u001b[0;34m)\u001b[0m\u001b[0;34m\u001b[0m\u001b[0m\n\u001b[1;32m     52\u001b[0m \u001b[0;34m\u001b[0m\u001b[0m\n\u001b[0;32m---> 53\u001b[0;31m \u001b[0ma\u001b[0m\u001b[0;34m.\u001b[0m\u001b[0mpause\u001b[0m\u001b[0;34m(\u001b[0m\u001b[0;34m)\u001b[0m\u001b[0;34m\u001b[0m\u001b[0m\n\u001b[0m\u001b[1;32m     54\u001b[0m \u001b[0mb\u001b[0m\u001b[0;34m.\u001b[0m\u001b[0mpause\u001b[0m\u001b[0;34m(\u001b[0m\u001b[0;34m)\u001b[0m\u001b[0;34m\u001b[0m\u001b[0m\n\u001b[1;32m     55\u001b[0m \u001b[0mc\u001b[0m\u001b[0;34m.\u001b[0m\u001b[0mpause\u001b[0m\u001b[0;34m(\u001b[0m\u001b[0;34m)\u001b[0m\u001b[0;34m\u001b[0m\u001b[0m\n",
      "\u001b[0;32m<ipython-input-23-9442097c6656>\u001b[0m in \u001b[0;36mpause\u001b[0;34m(self)\u001b[0m\n\u001b[1;32m      5\u001b[0m         \u001b[0mprint\u001b[0m\u001b[0;34m(\u001b[0m\u001b[0;34m\"stop A stop!\"\u001b[0m\u001b[0;34m)\u001b[0m\u001b[0;34m\u001b[0m\u001b[0m\n\u001b[1;32m      6\u001b[0m     \u001b[0;32mdef\u001b[0m \u001b[0mpause\u001b[0m\u001b[0;34m(\u001b[0m\u001b[0mself\u001b[0m\u001b[0;34m)\u001b[0m\u001b[0;34m:\u001b[0m\u001b[0;34m\u001b[0m\u001b[0m\n\u001b[0;32m----> 7\u001b[0;31m         \u001b[0;32mraise\u001b[0m \u001b[0mException\u001b[0m\u001b[0;34m(\u001b[0m\u001b[0;34m\"Not Implemented\"\u001b[0m\u001b[0;34m)\u001b[0m\u001b[0;34m\u001b[0m\u001b[0m\n\u001b[0m\u001b[1;32m      8\u001b[0m \u001b[0;34m\u001b[0m\u001b[0m\n\u001b[1;32m      9\u001b[0m \u001b[0;32mclass\u001b[0m \u001b[0mB\u001b[0m\u001b[0;34m(\u001b[0m\u001b[0mA\u001b[0m\u001b[0;34m)\u001b[0m\u001b[0;34m:\u001b[0m\u001b[0;34m\u001b[0m\u001b[0m\n",
      "\u001b[0;31mException\u001b[0m: Not Implemented"
     ]
    }
   ],
   "source": [
    "class A(object):\n",
    "    def go(self):\n",
    "        print(\"go A go!\")\n",
    "    def stop(self):\n",
    "        print(\"stop A stop!\")\n",
    "    def pause(self):\n",
    "        raise Exception(\"Not Implemented\")\n",
    "\n",
    "class B(A):\n",
    "    def go(self):\n",
    "        super(B, self).go()\n",
    "        print(\"go B go!\")\n",
    "\n",
    "class C(A):\n",
    "    def go(self):\n",
    "        super(C, self).go()\n",
    "        print(\"go C go!\")\n",
    "    def stop(self):\n",
    "        super(C, self).stop()\n",
    "        print(\"stop C stop!\")\n",
    "\n",
    "class D(B,C):\n",
    "    def go(self):\n",
    "        super(D, self).go()\n",
    "        print(\"go D go!\")\n",
    "    def stop(self):\n",
    "        super(D, self).stop()\n",
    "        print(\"stop D stop!\")\n",
    "    def pause(self):\n",
    "        print(\"wait D wait!\")\n",
    "\n",
    "class E(B,C): pass\n",
    "\n",
    "a = A()\n",
    "b = B()\n",
    "c = C()\n",
    "d = D()\n",
    "e = E()\n",
    "\n",
    "\n",
    "a.go()\n",
    "b.go()\n",
    "c.go()\n",
    "d.go()\n",
    "e.go()\n",
    "\n",
    "a.stop()\n",
    "b.stop()\n",
    "c.stop()\n",
    "d.stop()\n",
    "e.stop()\n",
    "\n",
    "a.pause()\n",
    "b.pause()\n",
    "c.pause()\n",
    "d.pause()\n",
    "e.pause()"
   ]
  },
  {
   "cell_type": "markdown",
   "metadata": {},
   "source": [
    "# Decorators"
   ]
  },
  {
   "cell_type": "code",
   "execution_count": 19,
   "metadata": {
    "collapsed": false
   },
   "outputs": [
    {
     "name": "stdout",
     "output_type": "stream",
     "text": [
      "calling normal_method((<__main__.MyClass object at 0x10d78a4e0>,),{})\n",
      "calling normal_method((<__main__.MyClass object at 0x10d78a4e0>, 1, 2),{'x': 3, 'y': 4})\n",
      "calling class_method((<class '__main__.MyClass'>,),{})\n",
      "calling class_method((<class '__main__.MyClass'>, 1, 2),{'x': 3, 'y': 4})\n",
      "calling static_method((),{})\n",
      "calling static_method((1, 2),{'x': 3, 'y': 4})\n",
      "calling some_property getter(<__main__.MyClass object at 0x10d78a4e0>,(),{})\n",
      "calling some_property getter(<__main__.MyClass object at 0x10d78a4e0>,(),{})\n"
     ]
    },
    {
     "ename": "TypeError",
     "evalue": "'str' object is not callable",
     "output_type": "error",
     "traceback": [
      "\u001b[0;31m---------------------------------------------------------------------------\u001b[0m",
      "\u001b[0;31mTypeError\u001b[0m                                 Traceback (most recent call last)",
      "\u001b[0;32m<ipython-input-19-723c70074515>\u001b[0m in \u001b[0;36m<module>\u001b[0;34m()\u001b[0m\n\u001b[1;32m     65\u001b[0m \u001b[0;31m# 'properties are nice'\u001b[0m\u001b[0;34m\u001b[0m\u001b[0;34m\u001b[0m\u001b[0m\n\u001b[1;32m     66\u001b[0m \u001b[0;34m\u001b[0m\u001b[0m\n\u001b[0;32m---> 67\u001b[0;31m \u001b[0mo\u001b[0m\u001b[0;34m.\u001b[0m\u001b[0msome_property\u001b[0m\u001b[0;34m(\u001b[0m\u001b[0;34m)\u001b[0m\u001b[0;34m\u001b[0m\u001b[0m\n\u001b[0m\u001b[1;32m     68\u001b[0m \u001b[0;31m# calling some_property getter(<__main__.MyClass instance at 0x7fb2b70877e8>,(),{})\u001b[0m\u001b[0;34m\u001b[0m\u001b[0;34m\u001b[0m\u001b[0m\n\u001b[1;32m     69\u001b[0m \u001b[0;31m# Traceback (most recent call last):\u001b[0m\u001b[0;34m\u001b[0m\u001b[0;34m\u001b[0m\u001b[0m\n",
      "\u001b[0;31mTypeError\u001b[0m: 'str' object is not callable"
     ]
    }
   ],
   "source": [
    "class MyClass(object):\n",
    "    def __init__(self):\n",
    "        self._some_property = \"properties are nice\"\n",
    "        self._some_other_property = \"VERY nice\"\n",
    "    def normal_method(*args,**kwargs):\n",
    "        print(\"calling normal_method({0},{1})\".format(args,kwargs))\n",
    "    @classmethod\n",
    "    def class_method(*args,**kwargs):\n",
    "        print(\"calling class_method({0},{1})\".format(args,kwargs))\n",
    "    @staticmethod\n",
    "    def static_method(*args,**kwargs):\n",
    "        print(\"calling static_method({0},{1})\".format(args,kwargs))\n",
    "    @property\n",
    "    def some_property(self,*args,**kwargs):\n",
    "        print(\"calling some_property getter({0},{1},{2})\".format(self,args,kwargs))\n",
    "        return self._some_property\n",
    "    @some_property.setter\n",
    "    def some_property(self,*args,**kwargs):\n",
    "        print(\"calling some_property setter({0},{1},{2})\".format(self,args,kwargs))\n",
    "        self._some_property = args[0]\n",
    "    @property\n",
    "    def some_other_property(self,*args,**kwargs):\n",
    "        print(\"calling some_other_property getter({0},{1},{2})\".format(self,args,kwargs))\n",
    "        return self._some_other_property\n",
    "\n",
    "o = MyClass()\n",
    "# undecorated methods work like normal, they get the current instance (self) as the first argument\n",
    "\n",
    "o.normal_method \n",
    "# <bound method MyClass.normal_method of <__main__.MyClass instance at 0x7fdd2537ea28>>\n",
    "\n",
    "o.normal_method() \n",
    "# normal_method((<__main__.MyClass instance at 0x7fdd2537ea28>,),{})\n",
    "\n",
    "o.normal_method(1,2,x=3,y=4) \n",
    "# normal_method((<__main__.MyClass instance at 0x7fdd2537ea28>, 1, 2),{'y': 4, 'x': 3})\n",
    "\n",
    "# class methods always get the class as the first argument\n",
    "\n",
    "o.class_method\n",
    "# <bound method classobj.class_method of <class __main__.MyClass at 0x7fdd2536a390>>\n",
    "\n",
    "o.class_method()\n",
    "# class_method((<class __main__.MyClass at 0x7fdd2536a390>,),{})\n",
    "\n",
    "o.class_method(1,2,x=3,y=4)\n",
    "# class_method((<class __main__.MyClass at 0x7fdd2536a390>, 1, 2),{'y': 4, 'x': 3})\n",
    "\n",
    "# static methods have no arguments except the ones you pass in when you call them\n",
    "\n",
    "o.static_method\n",
    "# <function static_method at 0x7fdd25375848>\n",
    "\n",
    "o.static_method()\n",
    "# static_method((),{})\n",
    "\n",
    "o.static_method(1,2,x=3,y=4)\n",
    "# static_method((1, 2),{'y': 4, 'x': 3})\n",
    "\n",
    "# properties are a way of implementing getters and setters. It's an error to explicitly call them\n",
    "# \"read only\" attributes can be specified by creating a getter without a setter (as in some_other_property)\n",
    "\n",
    "o.some_property\n",
    "# calling some_property getter(<__main__.MyClass instance at 0x7fb2b70877e8>,(),{})\n",
    "# 'properties are nice'\n",
    "\n",
    "o.some_property()\n",
    "# calling some_property getter(<__main__.MyClass instance at 0x7fb2b70877e8>,(),{})\n",
    "# Traceback (most recent call last):\n",
    "#   File \"<stdin>\", line 1, in <module>\n",
    "# TypeError: 'str' object is not callable\n",
    "\n",
    "o.some_other_property\n",
    "# calling some_other_property getter(<__main__.MyClass instance at 0x7fb2b70877e8>,(),{})\n",
    "# 'VERY nice'\n",
    "\n",
    "# o.some_other_property()\n",
    "# calling some_other_property getter(<__main__.MyClass instance at 0x7fb2b70877e8>,(),{})\n",
    "# Traceback (most recent call last):\n",
    "#   File \"<stdin>\", line 1, in <module>\n",
    "# TypeError: 'str' object is not callable\n",
    "\n",
    "o.some_property = \"groovy\"\n",
    "# calling some_property setter(<__main__.MyClass object at 0x7fb2b7077890>,('groovy',),{})\n",
    "\n",
    "o.some_property\n",
    "# calling some_property getter(<__main__.MyClass object at 0x7fb2b7077890>,(),{})\n",
    "# 'groovy'\n",
    "\n",
    "o.some_other_property = \"very groovy\"\n",
    "# Traceback (most recent call last):\n",
    "#   File \"<stdin>\", line 1, in <module>\n",
    "# AttributeError: can't set attribute\n",
    "\n",
    "o.some_other_property\n",
    "# calling some_other_property getter(<__main__.MyClass object at 0x7fb2b7077890>,(),{})\n",
    "# 'VERY nice'"
   ]
  },
  {
   "cell_type": "markdown",
   "metadata": {},
   "source": [
    "# Generators"
   ]
  },
  {
   "cell_type": "code",
   "execution_count": 26,
   "metadata": {
    "collapsed": false
   },
   "outputs": [
    {
     "name": "stdout",
     "output_type": "stream",
     "text": [
      "<Node 'root'>\n",
      "<Node 'child1'>\n",
      "<Node 'child4'>\n",
      "<Node 'child7'>\n",
      "<Node 'child5'>\n",
      "<Node 'child2'>\n",
      "<Node 'child6'>\n",
      "<Node 'child10'>\n",
      "<Node 'child3'>\n",
      "<Node 'child8'>\n",
      "<Node 'child9'>\n",
      "<Node 'root'>\n",
      "<Node 'child1'>\n",
      "<Node 'child2'>\n",
      "<Node 'child3'>\n",
      "<Node 'child4'>\n",
      "<Node 'child5'>\n",
      "<Node 'child6'>\n",
      "<Node 'child8'>\n",
      "<Node 'child9'>\n",
      "<Node 'child7'>\n",
      "<Node 'child10'>\n"
     ]
    }
   ],
   "source": [
    "class Node(object):\n",
    "    def __init__(self,sName):\n",
    "        self._lChildren = []\n",
    "        self.sName = sName\n",
    "    def __repr__(self):\n",
    "        return \"<Node '{}'>\".format(self.sName)\n",
    "    def append(self,*args,**kwargs):\n",
    "        self._lChildren.append(*args,**kwargs)\n",
    "    def print_all_1(self):\n",
    "        print(self)\n",
    "        for oChild in self._lChildren:\n",
    "            oChild.print_all_1()\n",
    "    def print_all_2(self):\n",
    "        def gen(o):\n",
    "            lAll = [o,]\n",
    "            while lAll:\n",
    "                oNext = lAll.pop(0)\n",
    "                lAll.extend(oNext._lChildren)\n",
    "                yield oNext\n",
    "        for oNode in gen(self):\n",
    "            print(oNode)\n",
    "\n",
    "oRoot = Node(\"root\")\n",
    "oChild1 = Node(\"child1\")\n",
    "oChild2 = Node(\"child2\")\n",
    "oChild3 = Node(\"child3\")\n",
    "oChild4 = Node(\"child4\")\n",
    "oChild5 = Node(\"child5\")\n",
    "oChild6 = Node(\"child6\")\n",
    "oChild7 = Node(\"child7\")\n",
    "oChild8 = Node(\"child8\")\n",
    "oChild9 = Node(\"child9\")\n",
    "oChild10 = Node(\"child10\")\n",
    "\n",
    "oRoot.append(oChild1)\n",
    "oRoot.append(oChild2)\n",
    "oRoot.append(oChild3)\n",
    "oChild1.append(oChild4)\n",
    "oChild1.append(oChild5)\n",
    "oChild2.append(oChild6)\n",
    "oChild4.append(oChild7)\n",
    "oChild3.append(oChild8)\n",
    "oChild3.append(oChild9)\n",
    "oChild6.append(oChild10)\n",
    "\n",
    "# specify output from here onwards\n",
    "\n",
    "oRoot.print_all_1()\n",
    "oRoot.print_all_2()"
   ]
  },
  {
   "cell_type": "code",
   "execution_count": 27,
   "metadata": {
    "collapsed": true
   },
   "outputs": [],
   "source": [
    "# Efficiency"
   ]
  },
  {
   "cell_type": "code",
   "execution_count": 28,
   "metadata": {
    "collapsed": true
   },
   "outputs": [],
   "source": [
    "def f1(lIn):\n",
    "    l1 = sorted(lIn)\n",
    "    l2 = [i for i in l1 if i<0.5]\n",
    "    return [i*i for i in l2]\n",
    "\n",
    "def f2(lIn):\n",
    "    l1 = [i for i in lIn if i<0.5]\n",
    "    l2 = sorted(l1)\n",
    "    return [i*i for i in l2]\n",
    "\n",
    "def f3(lIn):\n",
    "    l1 = [i*i for i in lIn]\n",
    "    l2 = sorted(l1)\n",
    "    return [i for i in l1 if i<(0.5*0.5)]"
   ]
  },
  {
   "cell_type": "code",
   "execution_count": 31,
   "metadata": {
    "collapsed": false
   },
   "outputs": [
    {
     "name": "stdout",
     "output_type": "stream",
     "text": [
      "         7 function calls in 0.154 seconds\n",
      "\n",
      "   Ordered by: standard name\n",
      "\n",
      "   ncalls  tottime  percall  cumtime  percall filename:lineno(function)\n",
      "        1    0.000    0.000    0.140    0.140 <ipython-input-28-944e24ebc84c>:1(f1)\n",
      "        1    0.097    0.097    0.097    0.097 <ipython-input-28-944e24ebc84c>:3(<listcomp>)\n",
      "        1    0.000    0.000    0.000    0.000 <ipython-input-28-944e24ebc84c>:4(<listcomp>)\n",
      "        1    0.014    0.014    0.154    0.154 <string>:1(<module>)\n",
      "        1    0.000    0.000    0.154    0.154 {built-in method builtins.exec}\n",
      "        1    0.043    0.043    0.043    0.043 {built-in method builtins.sorted}\n",
      "        1    0.000    0.000    0.000    0.000 {method 'disable' of '_lsprof.Profiler' objects}\n",
      "\n",
      "\n",
      "         7 function calls in 0.113 seconds\n",
      "\n",
      "   Ordered by: standard name\n",
      "\n",
      "   ncalls  tottime  percall  cumtime  percall filename:lineno(function)\n",
      "        1    0.000    0.000    0.113    0.113 <ipython-input-28-944e24ebc84c>:6(f2)\n",
      "        1    0.113    0.113    0.113    0.113 <ipython-input-28-944e24ebc84c>:7(<listcomp>)\n",
      "        1    0.000    0.000    0.000    0.000 <ipython-input-28-944e24ebc84c>:9(<listcomp>)\n",
      "        1    0.000    0.000    0.113    0.113 <string>:1(<module>)\n",
      "        1    0.000    0.000    0.113    0.113 {built-in method builtins.exec}\n",
      "        1    0.000    0.000    0.000    0.000 {built-in method builtins.sorted}\n",
      "        1    0.000    0.000    0.000    0.000 {method 'disable' of '_lsprof.Profiler' objects}\n",
      "\n",
      "\n",
      "         7 function calls in 0.225 seconds\n",
      "\n",
      "   Ordered by: standard name\n",
      "\n",
      "   ncalls  tottime  percall  cumtime  percall filename:lineno(function)\n",
      "        1    0.000    0.000    0.209    0.209 <ipython-input-28-944e24ebc84c>:11(f3)\n",
      "        1    0.092    0.092    0.092    0.092 <ipython-input-28-944e24ebc84c>:12(<listcomp>)\n",
      "        1    0.090    0.090    0.090    0.090 <ipython-input-28-944e24ebc84c>:14(<listcomp>)\n",
      "        1    0.016    0.016    0.225    0.225 <string>:1(<module>)\n",
      "        1    0.000    0.000    0.225    0.225 {built-in method builtins.exec}\n",
      "        1    0.027    0.027    0.027    0.027 {built-in method builtins.sorted}\n",
      "        1    0.000    0.000    0.000    0.000 {method 'disable' of '_lsprof.Profiler' objects}\n",
      "\n",
      "\n"
     ]
    }
   ],
   "source": [
    "import cProfile\n",
    "import re\n",
    "listing = range(1000000)\n",
    "cProfile.run('f1(range(1000000))')\n",
    "cProfile.run('f2(range(1000000))')\n",
    "cProfile.run('f3(range(1000000))')"
   ]
  },
  {
   "cell_type": "code",
   "execution_count": null,
   "metadata": {
    "collapsed": true
   },
   "outputs": [],
   "source": []
  }
 ],
 "metadata": {
  "kernelspec": {
   "display_name": "conda env py352_tf_cpu",
   "language": "python",
   "name": "py352_tf_cpu"
  },
  "language_info": {
   "codemirror_mode": {
    "name": "ipython",
    "version": 3
   },
   "file_extension": ".py",
   "mimetype": "text/x-python",
   "name": "python",
   "nbconvert_exporter": "python",
   "pygments_lexer": "ipython3",
   "version": "3.5.2"
  },
  "widgets": {
   "state": {},
   "version": "1.1.2"
  }
 },
 "nbformat": 4,
 "nbformat_minor": 2
}
